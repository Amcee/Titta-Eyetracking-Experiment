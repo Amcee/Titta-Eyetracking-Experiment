{
 "cells": [
  {
   "cell_type": "markdown",
   "id": "616345e8",
   "metadata": {},
   "source": [
    "## Map fixations to AOIs\n",
    "\n",
    "Reads fixations detected with the I2MC from an input file (allfixation.txt), maps them to AOIs, and writes the output to a .csv-file ('fixation_aoi_hits.csv')."
   ]
  },
  {
   "cell_type": "code",
   "execution_count": 5,
   "id": "cfde18da",
   "metadata": {},
   "outputs": [
    {
     "name": "stdout",
     "output_type": "stream",
     "text": [
      "    participant     trial      xpos     ypos      dur AOI_name\n",
      "0  participant1  im1.jpeg  1714.898  335.301  173.338       WS\n",
      "1  participant1  im1.jpeg  1207.544  522.446   95.004       WS\n",
      "2  participant1  im1.jpeg   925.742  532.648  418.356       WS\n",
      "3  participant1  im1.jpeg   825.583  542.907  323.355  eye.png\n",
      "4  participant1  im1.jpeg   784.286  541.019  311.689  eye.png\n"
     ]
    }
   ],
   "source": [
    "import pandas as pd\n",
    "from pathlib import Path\n",
    "import matplotlib.pyplot as plt\n",
    "import os\n",
    "\n",
    "# %%\n",
    "# Read files with fixations generated with the I2MC\n",
    "df_fixations = pd.read_csv('allfixations.txt', sep='\\t')\n",
    "\n",
    "# List aoi images and save into dict\n",
    "image_aois = {}\n",
    "\n",
    "aoi_folder = Path.cwd() / 'AOIs'\n",
    "for p in aoi_folder.rglob(\"*\"):\n",
    "    if p.is_file():\n",
    "\n",
    "        trial_name = str(p).split(os.sep)[-2]\n",
    "        aoi_name = p.name\n",
    "\n",
    "        # Read binary AOI image\n",
    "        temp_im = plt.imread(p)\n",
    "\n",
    "        # If an RGB image, use only R-band.\n",
    "        if len(temp_im.shape) > 2:\n",
    "            temp_im = temp_im[:, :, 0]\n",
    "\n",
    "        # Add AOIs to dictionary\n",
    "        if trial_name in image_aois:\n",
    "            image_aois[trial_name].update({aoi_name:temp_im})\n",
    "        else:\n",
    "            image_aois[trial_name] = {}\n",
    "            image_aois[trial_name][aoi_name] = temp_im\n",
    "\n",
    "        # Nested_dict[dict][key] = 'value'\n",
    "\n",
    "# %% Map fixations to AOIs\n",
    "aoi_hits = []\n",
    "\n",
    "# For each fixation\n",
    "for i, row in df_fixations.iterrows():\n",
    "\n",
    "    trial = row.trial\n",
    "    participant = row.participant\n",
    "\n",
    "    # Find AOIs for this trial\n",
    "    aois = image_aois[trial]\n",
    "\n",
    "    # Position and duration of fixation\n",
    "    x, y = row.xpos, row.ypos\n",
    "    dur = row.dur\n",
    "\n",
    "    # fixation hits an AOI?\n",
    "    hit = False\n",
    "    for key in aois:\n",
    "        if aois[key][int(y), int(x)] == temp_im.max():\n",
    "            aoi_hits.append([row.participant, row.trial, x, y, dur, key])\n",
    "            hit = True\n",
    "\n",
    "    # if not hit\n",
    "    if not hit:\n",
    "        aoi_hits.append([participant, trial, x, y, dur, 'WS']) # WS (white space) for miss\n",
    "\n",
    "# Save AOI data as csv\n",
    "df = pd.DataFrame(aoi_hits, columns=['participant', 'trial', 'xpos', 'ypos',\n",
    "                                'dur', 'AOI_name'])\n",
    "df.to_csv('fixation_aoi_hits.csv', index=False)\n",
    "\n",
    "print(df.head())\n",
    "\n",
    "\n"
   ]
  },
  {
   "cell_type": "code",
   "execution_count": null,
   "id": "67242793",
   "metadata": {},
   "outputs": [],
   "source": []
  }
 ],
 "metadata": {
  "kernelspec": {
   "display_name": "Python 3 (ipykernel)",
   "language": "python",
   "name": "python3"
  },
  "language_info": {
   "codemirror_mode": {
    "name": "ipython",
    "version": 3
   },
   "file_extension": ".py",
   "mimetype": "text/x-python",
   "name": "python",
   "nbconvert_exporter": "python",
   "pygments_lexer": "ipython3",
   "version": "3.9.12"
  }
 },
 "nbformat": 4,
 "nbformat_minor": 5
}
